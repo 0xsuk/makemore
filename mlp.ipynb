{
 "cells": [
  {
   "cell_type": "code",
   "execution_count": 2,
   "id": "38665c1e-0910-434a-b219-c38071d6913f",
   "metadata": {
    "collapsed": false
   },
   "outputs": [],
   "source": [
    "import torch\n",
    "import torch.nn.functional as F\n",
    "import matplotlib.pyplot as plt"
   ]
  },
  {
   "cell_type": "code",
   "execution_count": 3,
   "id": "87743a58-6b79-42a5-bde4-c79e0265a64b",
   "metadata": {
    "collapsed": false
   },
   "outputs": [
    {
     "data": {
      "text/plain": [
       "32033"
      ]
     },
     "execution_count": 3,
     "metadata": {},
     "output_type": "execute_result"
    }
   ],
   "source": [
    "words = open('names.txt', 'r').read().splitlines()\n",
    "len(words)"
   ]
  },
  {
   "cell_type": "code",
   "execution_count": 4,
   "id": "e52c2d61-7700-4848-aedb-d793c282fd44",
   "metadata": {
    "collapsed": false
   },
   "outputs": [
    {
     "data": {
      "text/plain": [
       "{1: 'a',\n",
       " 2: 'b',\n",
       " 3: 'c',\n",
       " 4: 'd',\n",
       " 5: 'e',\n",
       " 6: 'f',\n",
       " 7: 'g',\n",
       " 8: 'h',\n",
       " 9: 'i',\n",
       " 10: 'j',\n",
       " 11: 'k',\n",
       " 12: 'l',\n",
       " 13: 'm',\n",
       " 14: 'n',\n",
       " 15: 'o',\n",
       " 16: 'p',\n",
       " 17: 'q',\n",
       " 18: 'r',\n",
       " 19: 's',\n",
       " 20: 't',\n",
       " 21: 'u',\n",
       " 22: 'v',\n",
       " 23: 'w',\n",
       " 24: 'x',\n",
       " 25: 'y',\n",
       " 26: 'z',\n",
       " 0: '.'}"
      ]
     },
     "execution_count": 4,
     "metadata": {},
     "output_type": "execute_result"
    }
   ],
   "source": [
    "chars = sorted(list(set(''.join(words))))\n",
    "stoi = {s:i+1 for i,s in enumerate(chars)}\n",
    "stoi['.'] = 0\n",
    "itos = {i:s for s,i in stoi.items()}\n",
    "itos"
   ]
  },
  {
   "cell_type": "code",
   "execution_count": 5,
   "id": "80bf0260-b1b2-4cf4-9ab4-9095adc9effd",
   "metadata": {
    "collapsed": false
   },
   "outputs": [
    {
     "name": "stdout",
     "output_type": "stream",
     "text": [
      "emma\n",
      "... ----> e\n",
      "..e ----> m\n",
      ".em ----> m\n",
      "emm ----> a\n",
      "mma ----> .\n",
      "olivia\n",
      "... ----> o\n",
      "..o ----> l\n",
      ".ol ----> i\n",
      "oli ----> v\n",
      "liv ----> i\n",
      "ivi ----> a\n",
      "via ----> .\n",
      "ava\n",
      "... ----> a\n",
      "..a ----> v\n",
      ".av ----> a\n",
      "ava ----> .\n",
      "isabella\n",
      "... ----> i\n",
      "..i ----> s\n",
      ".is ----> a\n",
      "isa ----> b\n",
      "sab ----> e\n",
      "abe ----> l\n",
      "bel ----> l\n",
      "ell ----> a\n",
      "lla ----> .\n",
      "sophia\n",
      "... ----> s\n",
      "..s ----> o\n",
      ".so ----> p\n",
      "sop ----> h\n",
      "oph ----> i\n",
      "phi ----> a\n",
      "hia ----> .\n"
     ]
    },
    {
     "data": {
      "text/plain": [
       "(torch.Size([32, 3]), torch.int64)"
      ]
     },
     "execution_count": 5,
     "metadata": {},
     "output_type": "execute_result"
    }
   ],
   "source": [
    "block_size = 3 # context length: how many chars to take to predict the next\n",
    "X, Y = [], []\n",
    "for w in words[:5]:\n",
    "  print(w)\n",
    "  context = [0] * block_size\n",
    "  for ch in w + '.':\n",
    "    ix = stoi[ch]\n",
    "    X.append(context)\n",
    "    Y.append(ix)\n",
    "    print(''.join(itos[i] for i in context), '---->', itos[ix])\n",
    "    context = context[1:] + [ix] # crop and append\n",
    "\n",
    "X =  torch.tensor(X)\n",
    "Y = torch.tensor(Y)\n",
    "X.shape, X.dtype"
   ]
  },
  {
   "cell_type": "code",
   "execution_count": 6,
   "id": "8c5d6524-c84e-47fb-adb2-c760e6b70ec7",
   "metadata": {
    "collapsed": false
   },
   "outputs": [
    {
     "data": {
      "text/plain": [
       "tensor([[-0.5187, -0.6635],\n",
       "        [-1.2788, -0.2109],\n",
       "        [-1.3987, -1.0864],\n",
       "        [ 0.3764, -0.2688],\n",
       "        [ 0.1555,  0.9545],\n",
       "        [ 0.9076, -1.2435],\n",
       "        [ 0.6890,  0.0132],\n",
       "        [-0.8300,  0.2763],\n",
       "        [ 0.3329,  1.6711],\n",
       "        [-0.0079, -0.6316],\n",
       "        [-0.0263, -0.0091],\n",
       "        [ 0.3656, -0.6223],\n",
       "        [-1.5174,  0.9439],\n",
       "        [-1.1339,  1.3864],\n",
       "        [-0.7596,  2.5453],\n",
       "        [-0.7795,  1.7824],\n",
       "        [-0.1771,  1.4251],\n",
       "        [-1.1884, -0.2153],\n",
       "        [-0.0989, -1.0518],\n",
       "        [-1.4279, -0.7732],\n",
       "        [-0.2226, -0.2716],\n",
       "        [ 0.8863,  2.0756],\n",
       "        [ 0.4554,  1.6259],\n",
       "        [-0.9193, -0.1384],\n",
       "        [-1.4129, -0.8895],\n",
       "        [-1.0657,  0.4222],\n",
       "        [-1.7512,  0.1753]])"
      ]
     },
     "execution_count": 6,
     "metadata": {},
     "output_type": "execute_result"
    }
   ],
   "source": [
    "C =  torch.randn((27, 2)) # each 27 chars will have 2 dim space\n",
    "C"
   ]
  },
  {
   "cell_type": "code",
   "execution_count": 7,
   "id": "bca2df05-c812-4612-9775-37590c03a315",
   "metadata": {
    "collapsed": false
   },
   "outputs": [
    {
     "data": {
      "text/plain": [
       "tensor([ 0.9076, -1.2435])"
      ]
     },
     "execution_count": 7,
     "metadata": {},
     "output_type": "execute_result"
    }
   ],
   "source": [
    "F.one_hot(torch.tensor(5), num_classes=27).float() @ C\n",
    "# is equivalent to\n",
    "C[5]"
   ]
  },
  {
   "cell_type": "code",
   "execution_count": 16,
   "id": "231d0eb7-e958-411c-87b3-8f3b0d47f5e7",
   "metadata": {
    "collapsed": false
   },
   "outputs": [
    {
     "data": {
      "text/plain": [
       "tensor([[ 0.9076, -1.2435],\n",
       "        [ 0.9076, -1.2435]])"
      ]
     },
     "execution_count": 16,
     "metadata": {},
     "output_type": "execute_result"
    }
   ],
   "source": [
    "C.shape #27, 2\n",
    "X.shape #32, 3\n",
    "C[torch.tensor([5,5])] # you can index using tensor"
   ]
  },
  {
   "cell_type": "code",
   "execution_count": 18,
   "id": "f0a651c5-d5d5-4414-8b59-4729f533bdbe",
   "metadata": {
    "collapsed": false
   },
   "outputs": [
    {
     "data": {
      "text/plain": [
       "torch.Size([32, 3, 2])"
      ]
     },
     "execution_count": 18,
     "metadata": {},
     "output_type": "execute_result"
    }
   ],
   "source": [
    "# you can index using multi dim\n",
    "# X[something, something] is integer between 0 to 26. (something, something) is used in place of row index of C(27, 2), forming (something, 3, 2). think of this like matrix of row=(something,3), col=2. (something, 3) designates 27 different characters. 2 is size of feature vector.\n",
    "C[X].shape"
   ]
  },
  {
   "cell_type": "code",
   "execution_count": 19,
   "id": "9c9168f2-73d2-4318-84fa-c54897a6677e",
   "metadata": {
    "collapsed": false
   },
   "outputs": [
    {
     "data": {
      "text/plain": [
       "tensor(1)"
      ]
     },
     "execution_count": 19,
     "metadata": {},
     "output_type": "execute_result"
    }
   ],
   "source": [
    "X[13,2]"
   ]
  },
  {
   "cell_type": "code",
   "execution_count": 20,
   "id": "0084cb02-b687-4d4d-9b0f-95e5f7f276a6",
   "metadata": {
    "collapsed": false
   },
   "outputs": [
    {
     "data": {
      "text/plain": [
       "tensor([-1.2788, -0.2109])"
      ]
     },
     "execution_count": 20,
     "metadata": {},
     "output_type": "execute_result"
    }
   ],
   "source": [
    "C[X][13, 2]"
   ]
  },
  {
   "cell_type": "code",
   "execution_count": 21,
   "id": "6cf63f24-a6d9-41b7-ad74-1ff7d2142b0b",
   "metadata": {
    "collapsed": false
   },
   "outputs": [
    {
     "data": {
      "text/plain": [
       "tensor([-1.2788, -0.2109])"
      ]
     },
     "execution_count": 21,
     "metadata": {},
     "output_type": "execute_result"
    }
   ],
   "source": [
    "C[1]"
   ]
  },
  {
   "cell_type": "code",
   "execution_count": 24,
   "id": "64ac1eea-c531-4b7b-926f-b0c74867383f",
   "metadata": {
    "collapsed": false
   },
   "outputs": [],
   "source": [
    "emb = C[X]\n",
    "W1 = torch.randn((6, 100)) # 6 = 3 (blocksize) * 2 (embedding dimention) # num of neuron is up to us, 100\n",
    "b1 = torch.randn(100)\n",
    "# want to do emb @ W1 + b1, but then emb has to be (32, 6)"
   ]
  },
  {
   "cell_type": "code",
   "execution_count": 29,
   "id": "70d48f21-04c0-4db3-ba63-7f219dcb0b1f",
   "metadata": {
    "collapsed": false
   },
   "outputs": [
    {
     "data": {
      "text/plain": [
       "torch.Size([32, 2])"
      ]
     },
     "execution_count": 29,
     "metadata": {},
     "output_type": "execute_result"
    }
   ],
   "source": [
    "emb[:, 0, :].shape # take the first(0) character for all 32 blocks and corresponding feature vector."
   ]
  },
  {
   "cell_type": "code",
   "execution_count": 33,
   "id": "8f3e77ce-def4-4abe-8b72-195cf95a77b0",
   "metadata": {
    "collapsed": false
   },
   "outputs": [
    {
     "data": {
      "text/plain": [
       "torch.Size([32, 6])"
      ]
     },
     "execution_count": 33,
     "metadata": {},
     "output_type": "execute_result"
    }
   ],
   "source": [
    "torch.cat([emb[:, 0, :], emb[:, 1, :], emb[:, 2, :]], 1).shape # concat by the second (1) dimention.\n",
    "# the first 2 of 6 col is the feature vector for the first char in a block.\n",
    "# the second 2 of 6 is the feature for the second in a block, and so is for third."
   ]
  },
  {
   "cell_type": "code",
   "execution_count": 41,
   "id": "a7759cd8-7c98-4e5e-a8a1-7605fa9890a2",
   "metadata": {
    "collapsed": false
   },
   "outputs": [
    {
     "data": {
      "text/plain": [
       "(tensor([1, 4, 7]), tensor([2, 5, 8]), tensor([3, 6, 9]))"
      ]
     },
     "execution_count": 41,
     "metadata": {},
     "output_type": "execute_result"
    }
   ],
   "source": [
    "torch.unbind(torch.tensor([[1, 2, 3],\n",
    "                           [4, 5, 6],\n",
    "                           [7, 8, 9]]), 1) # unbind splits tensor by dimention 1 (col?)"
   ]
  },
  {
   "cell_type": "code",
   "execution_count": 68,
   "id": "d6c875b3-c8df-4c52-bc29-f91747d9db8c",
   "metadata": {
    "collapsed": false
   },
   "outputs": [
    {
     "name": "stderr",
     "output_type": "stream",
     "text": [
      "/tmp/ipykernel_723480/1562459235.py:7: UserWarning: To copy construct from a tensor, it is recommended to use sourceTensor.clone().detach() or sourceTensor.clone().detach().requires_grad_(True), rather than torch.tensor(sourceTensor).\n",
      "  torch.tensor(torch.unbind(emb, 1)[0]).shape #(32, 2)\n"
     ]
    },
    {
     "data": {
      "text/plain": [
       "torch.Size([32, 6])"
      ]
     },
     "execution_count": 68,
     "metadata": {},
     "output_type": "execute_result"
    }
   ],
   "source": [
    "# emb:\n",
    "# \n",
    "# [[][]] [[][]] [[][]]\n",
    "# [[][]] [[][]] [[][]]\n",
    "# ...    ...    ...\n",
    "len(torch.unbind(emb, 1)) #3 #split tensor by col. form array of length 3, each element is (32, 2)\n",
    "torch.tensor(torch.unbind(emb, 1)[0]).shape #(32, 2)\n",
    "torch.cat(torch.unbind(emb, 1), 1).shape # (32, 6) same as the cell above*2"
   ]
  },
  {
   "cell_type": "code",
   "execution_count": 77,
   "id": "08eaa9f8-046a-49fc-a5bb-af03f361b2e5",
   "metadata": {
    "collapsed": false
   },
   "outputs": [
    {
     "data": {
      "text/plain": [
       "tensor([-0.5187, -0.6635])"
      ]
     },
     "execution_count": 77,
     "metadata": {},
     "output_type": "execute_result"
    }
   ],
   "source": [
    "emb.view(32, 6) # much efficient"
   ]
  },
  {
   "cell_type": "code",
   "execution_count": 83,
   "id": "65d3df17-44ad-4676-b36f-d3924cfa8c0d",
   "metadata": {
    "collapsed": false
   },
   "outputs": [
    {
     "data": {
      "text/plain": [
       "torch.Size([32, 100])"
      ]
     },
     "execution_count": 83,
     "metadata": {},
     "output_type": "execute_result"
    }
   ],
   "source": [
    "h = emb.view(-1, 6) @ W1 + b1\n",
    "h = torch.tanh(h)\n",
    "h.shape"
   ]
  },
  {
   "cell_type": "code",
   "execution_count": 84,
   "id": "23665b69-8dd6-4c3b-b1b6-e71641ba91b5",
   "metadata": {
    "collapsed": false
   },
   "outputs": [],
   "source": [
    "W2 = torch.randn(100, 27)\n",
    "b2 = torch.randn(27)"
   ]
  },
  {
   "cell_type": "code",
   "execution_count": 87,
   "id": "1aca6009-71e4-4486-b40f-33c171284f9f",
   "metadata": {
    "collapsed": false
   },
   "outputs": [
    {
     "data": {
      "text/plain": [
       "torch.Size([32, 27])"
      ]
     },
     "execution_count": 87,
     "metadata": {},
     "output_type": "execute_result"
    }
   ],
   "source": [
    "logits = h @ W2 + b2\n",
    "logits.shape"
   ]
  },
  {
   "cell_type": "code",
   "execution_count": 89,
   "id": "93254535-c345-4c17-ab04-7c606710f81c",
   "metadata": {
    "collapsed": false
   },
   "outputs": [
    {
     "data": {
      "text/plain": [
       "torch.Size([32, 27])"
      ]
     },
     "execution_count": 89,
     "metadata": {},
     "output_type": "execute_result"
    }
   ],
   "source": [
    "counts = logits.exp()\n",
    "prob = counts / counts.sum(1, keepdim=True)\n",
    "prob.shape"
   ]
  },
  {
   "cell_type": "code",
   "execution_count": 91,
   "id": "e7e418a0-32ac-4869-a4b0-bf7f4c6dc4f6",
   "metadata": {
    "collapsed": false
   },
   "outputs": [
    {
     "data": {
      "text/plain": [
       "tensor(1.)"
      ]
     },
     "execution_count": 91,
     "metadata": {},
     "output_type": "execute_result"
    }
   ],
   "source": [
    "prob[0].sum()"
   ]
  },
  {
   "cell_type": "code",
   "execution_count": 96,
   "id": "b7ccc6a6-ba5c-4f12-a480-21b9ac63b603",
   "metadata": {
    "collapsed": false
   },
   "outputs": [
    {
     "data": {
      "text/plain": [
       "tensor(15.1159)"
      ]
     },
     "execution_count": 96,
     "metadata": {},
     "output_type": "execute_result"
    }
   ],
   "source": [
    "loss = -prob[torch.arange(32), Y].log().mean()\n",
    "loss"
   ]
  },
  {
   "cell_type": "code",
   "execution_count": 205,
   "id": "2ae1bb26-ce5e-435c-bec6-3b019a0ce276",
   "metadata": {
    "collapsed": false
   },
   "outputs": [],
   "source": [
    "# -------------- now made respectable --------------\n",
    "import torch\n",
    "import torch.nn.functional as F\n",
    "import matplotlib.pyplot as plt\n",
    "words = open('names.txt', 'r').read().splitlines()\n",
    "chars = sorted(list(set(''.join(words))))\n",
    "stoi = {s:i+1 for i,s in enumerate(chars)}\n",
    "stoi['.'] = 0\n",
    "itos = {i:s for s,i in stoi.items()}"
   ]
  },
  {
   "cell_type": "code",
   "execution_count": 308,
   "id": "c672a6a4-1147-4d0e-9b8d-d5fbc7068c04",
   "metadata": {
    "collapsed": false
   },
   "outputs": [
    {
     "name": "stdout",
     "output_type": "stream",
     "text": [
      "torch.Size([182512, 3]) torch.Size([182512])\n",
      "torch.Size([22860, 3]) torch.Size([22860])\n",
      "torch.Size([22774, 3]) torch.Size([22774])\n"
     ]
    }
   ],
   "source": [
    "# split data\n",
    "block_size = 3\n",
    "def build_dataset(words):\n",
    "  X, Y = [], []\n",
    "  for w in words:\n",
    "    context = [0] * block_size\n",
    "    for ch in w + '.':\n",
    "      ix = stoi[ch]\n",
    "      X.append(context)\n",
    "      Y.append(ix)\n",
    "      context = context[1:] + [ix]\n",
    "\n",
    "  X = torch.tensor(X)\n",
    "  Y = torch.tensor(Y)\n",
    "  print(X.shape, Y.shape)\n",
    "  return X, Y\n",
    "\n",
    "import random\n",
    "random.seed(42)\n",
    "random.shuffle(words)\n",
    "n1 = int(0.8*len(words))\n",
    "n2 = int(0.9*len(words))\n",
    "\n",
    "Xtr, Ytr = build_dataset(words[:n1])\n",
    "Xdev, Ydev = build_dataset(words[n1:n2])\n",
    "Xte, Yte = build_dataset(words[n2:])"
   ]
  },
  {
   "cell_type": "code",
   "execution_count": 327,
   "id": "62308c7b-a3be-463c-81de-e0ccdf61ee2d",
   "metadata": {
    "collapsed": false
   },
   "outputs": [
    {
     "data": {
      "text/plain": [
       "17697"
      ]
     },
     "execution_count": 327,
     "metadata": {},
     "output_type": "execute_result"
    }
   ],
   "source": [
    "# init\n",
    "featdim = 10\n",
    "C  = torch.randn((27, featdim))\n",
    "W1 = torch.randn((featdim*block_size, 300)) # 6 = 3 (blocksize) * 2 (embedding dimention) # num of neuron is up to us, 100\n",
    "b1 = torch.randn(300)\n",
    "W2 = torch.randn(300, 27)\n",
    "b2 = torch.randn(27)\n",
    "parameters = [C, W1, b1, W2, b2]\n",
    "for p in parameters:\n",
    "  p.requires_grad = True\n",
    "sum(p.nelement() for p in parameters)"
   ]
  },
  {
   "cell_type": "code",
   "execution_count": 341,
   "id": "b25ffa60-77df-4dd5-986c-f1c560a26a98",
   "metadata": {
    "collapsed": false
   },
   "outputs": [
    {
     "name": "stdout",
     "output_type": "stream",
     "text": [
      "2.3839926719665527\n"
     ]
    },
    {
     "data": {
      "text/plain": [
       "[<matplotlib.lines.Line2D at 0x7fc8f3e2ec20>]"
      ]
     },
     "execution_count": 341,
     "metadata": {},
     "output_type": "execute_result"
    },
    {
     "data": {
      "image/png": "[encoded data removed]",
      "text/plain": [
       "<Figure size 640x480 with 1 Axes>"
      ]
     },
     "metadata": {},
     "output_type": "display_data"
    }
   ],
   "source": [
    "lossi = []\n",
    "stepi = []\n",
    "for i in range(5000):\n",
    "  # minibatch construct\n",
    "  ix = torch.randint(0, Xtr.shape[0], (1000,))\n",
    "  \n",
    "  # forward pass\n",
    "  emb = C[Xtr[ix]] # C(27, 2) #X(datalength, blocksize)\n",
    "  h = torch.tanh(emb.view(-1, featdim*block_size) @ W1 + b1)\n",
    "  logits = h @ W2 + b2\n",
    "  loss = F.cross_entropy(logits, Ytr[ix]) # calculate loss much efficiently\n",
    "  # print(loss.item())\n",
    "\n",
    "\n",
    "  # backward pass\n",
    "  for p in parameters:\n",
    "    p.grad = None\n",
    "  loss.backward()\n",
    "  # update\n",
    "  for p in parameters:\n",
    "    p.data += -0.01 * p.grad\n",
    "\n",
    "  stepi.append(i)\n",
    "  lossi.append(loss.item())\n",
    "  \n",
    "print(loss.item())\n",
    "plt.plot(stepi, lossi)    "
   ]
  },
  {
   "cell_type": "code",
   "execution_count": 342,
   "id": "d4116ef7-186c-448d-8817-2459fee3cfcd",
   "metadata": {
    "collapsed": false
   },
   "outputs": [
    {
     "data": {
      "text/plain": [
       "tensor(2.4241, grad_fn=<NllLossBackward0>)"
      ]
     },
     "execution_count": 342,
     "metadata": {},
     "output_type": "execute_result"
    }
   ],
   "source": [
    "#using validation data\n",
    "emb  =  C[Xdev]\n",
    "h = torch.tanh(emb.view(-1, featdim*block_size) @ W1 + b1)\n",
    "logits = h @ W2 + b2\n",
    "loss = F.cross_entropy(logits, Ydev)\n",
    "loss"
   ]
  },
  {
   "cell_type": "code",
   "execution_count": 303,
   "id": "9c29e696-2f29-4813-ba32-7205aec9bfe0",
   "metadata": {
    "collapsed": false
   },
   "outputs": [
    {
     "data": {
      "image/png": "[encoded data removed]",
      "text/plain": [
       "<Figure size 1000x1000 with 1 Axes>"
      ]
     },
     "metadata": {},
     "output_type": "display_data"
    }
   ],
   "source": [
    "plt.figure(figsize=(10,10))\n",
    "plt.scatter(C[:, 0].data, C[:, 1].data, s=200)\n",
    "for i in range(C.shape[0]):\n",
    "  plt.text(C[i, 0].item(), C[i, 1].item(), itos[i], ha=\"center\", va=\"center\", color=\"white\", fontsize=10)\n",
    "plt.grid(\"minor\")  "
   ]
  }
 ],
 "metadata": {
  "kernelspec": {
   "argv": [
    "/home/null/venv/ai/bin/python3",
    "-m",
    "ipykernel_launcher",
    "-f",
    "{connection_file}"
   ],
   "display_name": "ai",
   "env": null,
   "interrupt_mode": "signal",
   "language": "python",
   "metadata": {
    "debugger": true
   },
   "name": "ai"
  },
  "name": "mlp.ipynb"
 },
 "nbformat": 4,
 "nbformat_minor": 5
}
