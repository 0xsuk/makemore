{
 "cells": [
  {
   "cell_type": "code",
   "execution_count": null,
   "id": "d0aa70c9-8ca2-4fc1-a822-039d2cd23e3a",
   "metadata": {
    "collapsed": false
   },
   "outputs": [],
   "source": []
  }
 ],
 "metadata": {
  "kernelspec": {
   "argv": [
    "/home/null/venv/ai/bin/python3",
    "-m",
    "ipykernel_launcher",
    "-f",
    "{connection_file}"
   ],
   "display_name": "ai",
   "env": null,
   "interrupt_mode": "signal",
   "language": "python",
   "metadata": {
    "debugger": true
   },
   "name": "ai"
  },
  "name": "part3.ipynb"
 },
 "nbformat": 4,
 "nbformat_minor": 5
}
